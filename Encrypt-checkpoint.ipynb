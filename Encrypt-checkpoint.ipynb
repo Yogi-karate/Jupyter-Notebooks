{
 "cells": [
  {
   "cell_type": "code",
   "execution_count": null,
   "metadata": {},
   "outputs": [],
   "source": [
    "old = open('test.txt','r')\n",
    "x = old.readlines()\n",
    "f = open(\"out.txt\",\"w+\")\n",
    "main = ''\n",
    "string = ''\n",
    "line = ''\n",
    "point = '===='\n",
    "pin = \"$$$$\"\n",
    "for lin in x:\n",
    "    for word in lin:\n",
    "        word = ord(word)\n",
    "        word = word + 1\n",
    "        word = chr(word)\n",
    "        string = string + word\n",
    "    string = string + point\n",
    "    line = line + string\n",
    "    string = ''\n",
    "f.write(line)\n",
    "f.close()\n",
    "print(line)"
   ]
  }
 ],
 "metadata": {
  "kernelspec": {
   "display_name": "Python 3",
   "language": "python",
   "name": "python3"
  },
  "language_info": {
   "codemirror_mode": {
    "name": "ipython",
    "version": 3
   },
   "file_extension": ".py",
   "mimetype": "text/x-python",
   "name": "python",
   "nbconvert_exporter": "python",
   "pygments_lexer": "ipython3",
   "version": "3.7.1"
  }
 },
 "nbformat": 4,
 "nbformat_minor": 2
}
